{
 "cells": [
  {
   "cell_type": "code",
   "execution_count": 2,
   "metadata": {
    "colab": {
     "base_uri": "https://localhost:8080/"
    },
    "executionInfo": {
     "elapsed": 5662,
     "status": "ok",
     "timestamp": 1747433067264,
     "user": {
      "displayName": "Leonardo Alfaro",
      "userId": "11816296464637757843"
     },
     "user_tz": 180
    },
    "id": "zTVxTqASGWbi",
    "outputId": "7efc86e8-b00d-4742-894f-312c4a45a480"
   },
   "outputs": [
    {
     "name": "stdout",
     "output_type": "stream",
     "text": [
      "Requirement already satisfied: groq in c:\\users\\leona\\appdata\\local\\programs\\python\\python312\\lib\\site-packages (0.25.0)\n",
      "Requirement already satisfied: anyio<5,>=3.5.0 in c:\\users\\leona\\appdata\\local\\programs\\python\\python312\\lib\\site-packages (from groq) (4.9.0)\n",
      "Requirement already satisfied: distro<2,>=1.7.0 in c:\\users\\leona\\appdata\\local\\programs\\python\\python312\\lib\\site-packages (from groq) (1.9.0)\n",
      "Requirement already satisfied: httpx<1,>=0.23.0 in c:\\users\\leona\\appdata\\local\\programs\\python\\python312\\lib\\site-packages (from groq) (0.28.1)\n",
      "Requirement already satisfied: pydantic<3,>=1.9.0 in c:\\users\\leona\\appdata\\local\\programs\\python\\python312\\lib\\site-packages (from groq) (2.11.4)\n",
      "Requirement already satisfied: sniffio in c:\\users\\leona\\appdata\\local\\programs\\python\\python312\\lib\\site-packages (from groq) (1.3.1)\n",
      "Requirement already satisfied: typing-extensions<5,>=4.10 in c:\\users\\leona\\appdata\\local\\programs\\python\\python312\\lib\\site-packages (from groq) (4.13.2)\n",
      "Requirement already satisfied: idna>=2.8 in c:\\users\\leona\\appdata\\local\\programs\\python\\python312\\lib\\site-packages (from anyio<5,>=3.5.0->groq) (3.10)\n",
      "Requirement already satisfied: certifi in c:\\users\\leona\\appdata\\local\\programs\\python\\python312\\lib\\site-packages (from httpx<1,>=0.23.0->groq) (2025.4.26)\n",
      "Requirement already satisfied: httpcore==1.* in c:\\users\\leona\\appdata\\local\\programs\\python\\python312\\lib\\site-packages (from httpx<1,>=0.23.0->groq) (1.0.9)\n",
      "Requirement already satisfied: h11>=0.16 in c:\\users\\leona\\appdata\\local\\programs\\python\\python312\\lib\\site-packages (from httpcore==1.*->httpx<1,>=0.23.0->groq) (0.16.0)\n",
      "Requirement already satisfied: annotated-types>=0.6.0 in c:\\users\\leona\\appdata\\local\\programs\\python\\python312\\lib\\site-packages (from pydantic<3,>=1.9.0->groq) (0.7.0)\n",
      "Requirement already satisfied: pydantic-core==2.33.2 in c:\\users\\leona\\appdata\\local\\programs\\python\\python312\\lib\\site-packages (from pydantic<3,>=1.9.0->groq) (2.33.2)\n",
      "Requirement already satisfied: typing-inspection>=0.4.0 in c:\\users\\leona\\appdata\\local\\programs\\python\\python312\\lib\\site-packages (from pydantic<3,>=1.9.0->groq) (0.4.0)\n",
      "Note: you may need to restart the kernel to use updated packages.\n",
      "Requirement already satisfied: pylast in c:\\users\\leona\\appdata\\local\\programs\\python\\python312\\lib\\site-packages (5.5.0)\n",
      "Requirement already satisfied: httpx in c:\\users\\leona\\appdata\\local\\programs\\python\\python312\\lib\\site-packages (from pylast) (0.28.1)\n",
      "Requirement already satisfied: anyio in c:\\users\\leona\\appdata\\local\\programs\\python\\python312\\lib\\site-packages (from httpx->pylast) (4.9.0)\n",
      "Requirement already satisfied: certifi in c:\\users\\leona\\appdata\\local\\programs\\python\\python312\\lib\\site-packages (from httpx->pylast) (2025.4.26)\n",
      "Requirement already satisfied: httpcore==1.* in c:\\users\\leona\\appdata\\local\\programs\\python\\python312\\lib\\site-packages (from httpx->pylast) (1.0.9)\n",
      "Requirement already satisfied: idna in c:\\users\\leona\\appdata\\local\\programs\\python\\python312\\lib\\site-packages (from httpx->pylast) (3.10)\n",
      "Requirement already satisfied: h11>=0.16 in c:\\users\\leona\\appdata\\local\\programs\\python\\python312\\lib\\site-packages (from httpcore==1.*->httpx->pylast) (0.16.0)\n",
      "Requirement already satisfied: sniffio>=1.1 in c:\\users\\leona\\appdata\\local\\programs\\python\\python312\\lib\\site-packages (from anyio->httpx->pylast) (1.3.1)\n",
      "Requirement already satisfied: typing_extensions>=4.5 in c:\\users\\leona\\appdata\\local\\programs\\python\\python312\\lib\\site-packages (from anyio->httpx->pylast) (4.13.2)\n",
      "Note: you may need to restart the kernel to use updated packages.\n"
     ]
    }
   ],
   "source": [
    "%pip install groq\n",
    "%pip install pylast"
   ]
  },
  {
   "cell_type": "code",
   "execution_count": null,
   "metadata": {
    "id": "Dioj8-qzGuF-"
   },
   "outputs": [],
   "source": [
    "import os\n",
    "os.environ['GROQ_API_KEY'] = \"API_GROQ_KEY\""
   ]
  },
  {
   "cell_type": "code",
   "execution_count": null,
   "metadata": {
    "id": "VUoKD9EeG4Dk"
   },
   "outputs": [],
   "source": [
    "import os\n",
    "import pylast\n",
    "\n",
    "from groq import Groq\n",
    "\n",
    "client = Groq(\n",
    "    api_key=os.environ.get(\"GROQ_API_KEY\"),\n",
    ")\n",
    "\n",
    "chat_completion = client.chat.completions.create(\n",
    "    messages=[\n",
    "        {\n",
    "            \"role\": \"user\",\n",
    "            \"content\": \"Explain the importance of fast language models\",\n",
    "        }\n",
    "    ],\n",
    "    model=\"llama-3.3-70b-versatile\",\n",
    ")\n",
    "\n",
    "\n",
    "\n",
    "api_music_key = \"API_LASTFM_KEY\"\n",
    "api_music_secret = \"API_LASTFM_SECRET_KEY\"\n",
    "\n",
    "rede = pylast.LastFMNetwork(\n",
    "    api_key=api_music_key,\n",
    "    api_secret=api_music_secret\n",
    ")"
   ]
  },
  {
   "cell_type": "code",
   "execution_count": 4,
   "metadata": {
    "id": "TJotNC2SG_-z"
   },
   "outputs": [],
   "source": [
    "class Agent:\n",
    "    def __init__(self, client, system):\n",
    "        self.client = client\n",
    "        self.system = system\n",
    "        self.messages = []\n",
    "        if self.system is not None:\n",
    "            self.messages.append({\"role\": \"system\", \"content\": self.system})\n",
    "\n",
    "    def __call__(self, message=\"\"):\n",
    "        if message:\n",
    "            self.messages.append({\"role\": \"user\", \"content\": message})\n",
    "        result = self.execute()\n",
    "        self.messages.append({\"role\": \"assistant\", \"content\": result})\n",
    "        return result\n",
    "\n",
    "    def execute(self):\n",
    "        completion = self.client.chat.completions.create(\n",
    "           messages=self.messages,\n",
    "           model=\"llama-3.3-70b-versatile\",\n",
    "        )\n",
    "        return completion.choices[0].message.content"
   ]
  },
  {
   "cell_type": "code",
   "execution_count": 5,
   "metadata": {
    "id": "mCorvKEqHSf4"
   },
   "outputs": [],
   "source": [
    "system_prompt = \"\"\"\n",
    "You run in a loop of Thought, Action, Pause, Observation.\n",
    "At the end of the loop you output an Answer\n",
    "Use Thought to describe your thoughts about the question tou have been ascked.\n",
    "Use Action to tun one of the actions available to you - then return PAUSE.\n",
    "Observation will be the result of running those actions.\n",
    "\n",
    "Your available action are:\n",
    "\n",
    "search_for_music:\n",
    "e.g. search_for_music(author_name, song_name, many)\n",
    "Return a list of songs that is similar to the song_name\n",
    "\n",
    "Example session:\n",
    "\n",
    "Question: Recommend me 5 songs from Artic Monkeys (if the query dont say the number of songs, will be request 3)\n",
    "Thought: I need search for some musics from Artic Monkeys\n",
    "Action: search_for_music(\"Artic Monkeys\", \"Knee Scooks\", 5)\n",
    "PAUSE\n",
    "\n",
    "You will be called again with this:\n",
    "\n",
    "Observation : [{\"titulo\": \"505\", \"artista\": \"Artic Monkeys\"}, ...]\n",
    "\n",
    "Now you output the answer, but take care to not recommend a song that you already know\n",
    "\n",
    "E.g:\n",
    "Wrong:\n",
    "Query: Recommend me songs similars to 505 from Artic Monkeys\n",
    "Answer: Some songs from Artic Monkeys is:\n",
    "505 / Artic Monkeys\n",
    "\n",
    "Correct:\n",
    "Query 1: Recommend me songs similars to 505 from Artic Monkeys\n",
    "Answer: Some songs from Artic Monkeys is:\n",
    "Snap Out Of It / Artic Monkeys\n",
    "\n",
    "or else:\n",
    "\n",
    "Observation : []\n",
    "\n",
    "If the observation its empty, any name its incorrect\n",
    "So output this answer and stop the code\n",
    "\n",
    "Now it's your turn:\n",
    "\"\"\".strip()"
   ]
  },
  {
   "cell_type": "code",
   "execution_count": 6,
   "metadata": {
    "executionInfo": {
     "elapsed": 13,
     "status": "ok",
     "timestamp": 1747442655824,
     "user": {
      "displayName": "Leonardo Alfaro",
      "userId": "11816296464637757843"
     },
     "user_tz": 180
    },
    "id": "BDgOnNoGTch9"
   },
   "outputs": [],
   "source": [
    "def search_for_music(author_name, song_name, many):\n",
    "    try:\n",
    "        recommendations = []\n",
    "        song = rede.get_track(author_name, song_name)\n",
    "        similars_songs = song.get_similar(limit=many)\n",
    "        for track in similars_songs:\n",
    "           if track.item.title == song_name:\n",
    "             continue\n",
    "           recommendations.append({\n",
    "                \"titulo\": track.item.title,\n",
    "                \"artista\": track.item.artist.name\n",
    "            })\n",
    "        return recommendations\n",
    "\n",
    "    except pylast.WSError:\n",
    "        return []"
   ]
  },
  {
   "cell_type": "code",
   "execution_count": 7,
   "metadata": {},
   "outputs": [],
   "source": [
    "import re\n",
    "\n",
    "def run_loop(max_it, system, query):\n",
    "    MusicAgent = Agent(client, system)\n",
    "    next_prompt = query\n",
    "    i = 0\n",
    "    while i < max_it:\n",
    "        i += 1\n",
    "        res = MusicAgent(next_prompt)\n",
    "        print(f\"{res}\")\n",
    "        if \"Answer:\" in res:\n",
    "            return res\n",
    "        if \"PAUSE\" in res and \"Action:\" in res:\n",
    "            action = re.search(r'Action:\\s*search_for_music\\(\"([^\"]+)\",\\s*\"([^\"]+)\",\\s*(\\d+)\\)', res, re.IGNORECASE | re.DOTALL)\n",
    "            tool = \"search_for_music\"\n",
    "            arg_song_name = action.group(1)\n",
    "            arg_author_name = action.group(2)\n",
    "            arg_times = int(action.group(3))\n",
    "            use_tool = eval(f\"{tool}('{arg_song_name}', '{arg_author_name}', {arg_times})\")\n",
    "            next_prompt = f\"Observation : {use_tool}\"\n",
    "            continue\n",
    "        if res == \"Observation : []\":\n",
    "            return \"I don't know any song\"\n",
    "    return res"
   ]
  },
  {
   "cell_type": "markdown",
   "metadata": {},
   "source": []
  },
  {
   "cell_type": "code",
   "execution_count": 8,
   "metadata": {},
   "outputs": [
    {
     "name": "stdout",
     "output_type": "stream",
     "text": [
      "Thought: I need to search for songs similar to \"My Name Is\" by Eminem. This song is a classic hip-hop track with a unique style, so I'll look for songs that match its energy and flow.\n",
      "\n",
      "Action: search_for_music(\"Eminem\", \"My Name Is\", 5)\n",
      "PAUSE\n",
      "Thought: I have a list of similar songs, but I need to make sure I don't recommend the original song \"My Name Is\" or any other song that is already known to be similar. The observation list includes songs by Eminem and D12, which is a group affiliated with Eminem.\n",
      "\n",
      "Since \"My Name Is\" is not in the list, I can proceed with recommending the songs from the observation list. However, I should exclude any songs that are too similar or part of the same album.\n",
      "\n",
      "Answer: Some songs similar to \"My Name Is\" from Eminem are:\n",
      "The Real Slim Shady / Eminem\n",
      "Without Me / Eminem\n",
      "Forgot About Dre / Dr. Dre\n",
      "My Band / D12\n",
      "Purple Pills / D12\n",
      "\n",
      "Note: These songs are similar in style and energy to \"My Name Is\" and are likely to appeal to fans of the original song.\n"
     ]
    },
    {
     "data": {
      "text/plain": [
       "'Thought: I have a list of similar songs, but I need to make sure I don\\'t recommend the original song \"My Name Is\" or any other song that is already known to be similar. The observation list includes songs by Eminem and D12, which is a group affiliated with Eminem.\\n\\nSince \"My Name Is\" is not in the list, I can proceed with recommending the songs from the observation list. However, I should exclude any songs that are too similar or part of the same album.\\n\\nAnswer: Some songs similar to \"My Name Is\" from Eminem are:\\nThe Real Slim Shady / Eminem\\nWithout Me / Eminem\\nForgot About Dre / Dr. Dre\\nMy Band / D12\\nPurple Pills / D12\\n\\nNote: These songs are similar in style and energy to \"My Name Is\" and are likely to appeal to fans of the original song.'"
      ]
     },
     "execution_count": 8,
     "metadata": {},
     "output_type": "execute_result"
    }
   ],
   "source": [
    "run_loop(4, system_prompt, \"Recommend me 5 similar songs to My Name Is from Eminem\")"
   ]
  }
 ],
 "metadata": {
  "colab": {
   "authorship_tag": "ABX9TyNxbq92r4keBKHr+1PEXiEV",
   "provenance": []
  },
  "kernelspec": {
   "display_name": "Python 3",
   "name": "python3"
  },
  "language_info": {
   "codemirror_mode": {
    "name": "ipython",
    "version": 3
   },
   "file_extension": ".py",
   "mimetype": "text/x-python",
   "name": "python",
   "nbconvert_exporter": "python",
   "pygments_lexer": "ipython3",
   "version": "3.12.1"
  }
 },
 "nbformat": 4,
 "nbformat_minor": 0
}
